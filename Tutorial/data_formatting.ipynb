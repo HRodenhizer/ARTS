{
 "cells": [
  {
   "cell_type": "markdown",
   "metadata": {
    "colab_type": "text",
    "id": "view-in-github"
   },
   "source": [
    "<a href=\"https://colab.research.google.com/github/whrc/ARTS/blob/main/Tutorial/data_formatting.ipynb\" target=\"_parent\"><img src=\"https://colab.research.google.com/assets/colab-badge.svg\" alt=\"Open In Colab\"/></a>"
   ]
  },
  {
   "cell_type": "markdown",
   "metadata": {
    "id": "MJyiCsxMRj67"
   },
   "source": [
    "# Metadata formatting for the ARTS data set\n",
    "\n",
    "Heidi Rodenhizer, Yili Yang\n",
    "\n",
    "Jan 2024\n",
    "\n",
    "## Dependencies"
   ]
  },
  {
   "cell_type": "code",
   "execution_count": null,
   "metadata": {
    "id": "qZBRBIXBRe5p"
   },
   "outputs": [],
   "source": [
    "import uuid\n",
    "import numpy as np\n",
    "import pandas as pd\n",
    "import geopandas as gpd\n",
    "import warnings\n",
    "import re\n",
    "from datetime import datetime\n",
    "import os\n",
    "from os.path import dirname\n",
    "from pathlib import Path"
   ]
  },
  {
   "cell_type": "markdown",
   "metadata": {
    "id": "lBNRKu3eA30w"
   },
   "source": [
    "## User-Defined Input"
   ]
  },
  {
   "cell_type": "markdown",
   "metadata": {},
   "source": [
    "Are you using colab to run this script? Provide 'True' or 'False':"
   ]
  },
  {
   "cell_type": "code",
   "execution_count": null,
   "metadata": {
    "colab": {
     "base_uri": "https://localhost:8080/"
    },
    "id": "VgRAdzb4H6Oa",
    "outputId": "52ead2ae-d6de-4722-fe3d-50acb2df8fd8"
   },
   "outputs": [],
   "source": [
    "colab = False\n",
    "\n",
    "if colab:\n",
    "    %%capture\n",
    "    pip install git+https://github.com/whrc/ARTS.git\n",
    "    from google.colab import drive\n",
    "    \n",
    "    drive.mount(\"/content/drive\")\n",
    "\n",
    "from ARTS import dataformatting"
   ]
  },
  {
   "cell_type": "markdown",
   "metadata": {},
   "source": [
    "Would you like to run this as a demo with the mock data set? Provide 'True' (mock data demo) or 'False' (actual data processing of a new contribution):"
   ]
  },
  {
   "cell_type": "code",
   "execution_count": null,
   "metadata": {},
   "outputs": [],
   "source": [
    "demo = True"
   ]
  },
  {
   "cell_type": "markdown",
   "metadata": {},
   "source": [
    "Before starting, copy your new RTS dataset (can be a shapefile or a geojson) into a directory called \"input_data\" within the directory in which you would like to work. If you do not change any code in the following code chunk, the default directory will be the directory up one level from the location of this script, if you are running the script locally, **OR** a folder called \"ARTS\" in MyDrive, if you are using colab (you will have to create this folder manually).\n",
    "\n",
    "Provide the location of the directory in which you are working:"
   ]
  },
  {
   "cell_type": "code",
   "execution_count": null,
   "metadata": {},
   "outputs": [],
   "source": [
    "if colab:\n",
    "    base_dir = Path(\"/content/drive/MyDrive/ARTS\")\n",
    "else:\n",
    "    base_dir = Path('..')\n",
    "\n",
    "print('Your base directory is ' + str(base_dir.resolve()))"
   ]
  },
  {
   "cell_type": "markdown",
   "metadata": {},
   "source": [
    "Provide the file name of the data:"
   ]
  },
  {
   "cell_type": "code",
   "execution_count": null,
   "metadata": {
    "id": "NwfwwhNTAu4E"
   },
   "outputs": [],
   "source": [
    "# set this - if demo == True, what this is set to doesn't matter\n",
    "your_file = 'rts_dataset_test_polygons_new.geojson'\n",
    "\n",
    "# leave everything else in this chunk alone\n",
    "if demo:\n",
    "    # RTS data set to be processed\n",
    "    your_rts_dataset_file = 'rts_dataset_test_polygons_new.geojson'\n",
    "    your_rts_dataset_filepath = base_dir / 'Tutorial' / 'mock_dataset' / 'input_data' / your_rts_dataset_file\n",
    "    \n",
    "    # ARTS main dataset to be appended\n",
    "    ARTS_main_dataset_filepath = base_dir / 'Tutorial' / 'mock_dataset' / 'input_data' / 'rts_dataset_test_polygons_current.geojson'\n",
    "    \n",
    "else:\n",
    "    # RTS data set to be processed\n",
    "    your_rts_dataset_file = your_file\n",
    "    your_rts_dataset_filepath = base_dir / 'input_data' / your_rts_dataset_file\n",
    "    \n",
    "    # ARTS main dataset to be appended\n",
    "    ARTS_main_dataset_filepath = base_dir / 'ARTS_main_dataset' / 'ARTS_main_dataset.geojson'\n",
    "    \n",
    "# Metadata Description file\n",
    "metadata_filepath = base_dir / 'Metadata_Format_Summary.csv'\n"
   ]
  },
  {
   "cell_type": "markdown",
   "metadata": {
    "id": "GkwGn4ilFV20"
   },
   "source": [
    "Provide the names of any metadata fields in your new file that are not already in the official RTS Data Set (please check the list to ensure that the field has not been included previously) that you would like to be included in the compiled data set:"
   ]
  },
  {
   "cell_type": "code",
   "execution_count": null,
   "metadata": {
    "id": "gPU_5cP7BNkT"
   },
   "outputs": [],
   "source": [
    "# Provide new metatdata fields as a list of the character column names. If there are no new fields, leave the code assigning an empty list.\n",
    "# If your new file is a shapefile, also provide a list of the abbreviated names\n",
    "# Example:\n",
    "# new_fields = ['CustomColumn1', 'CustomColumn2']\n",
    "# Shapefile example:\n",
    "# new_fields_abbreviated = ['CstmCl1', 'CstmCl2']\n",
    "new_fields = []"
   ]
  },
  {
   "cell_type": "markdown",
   "metadata": {
    "id": "GORN98hYFX1z"
   },
   "source": [
    "Have you already created RTS centroid columns, or would you like them to be created within this script? Provide either True, if the columns do not exist yet, or False, if you have already created them:"
   ]
  },
  {
   "cell_type": "code",
   "execution_count": null,
   "metadata": {
    "id": "uPR-d6puCwpU"
   },
   "outputs": [],
   "source": [
    "# Example:\n",
    "# calculate_centroid = False\n",
    "calculate_centroid = True"
   ]
  },
  {
   "cell_type": "markdown",
   "metadata": {
    "id": "tb9JMIapFeIu"
   },
   "source": [
    "Would you like your formatted new data to be output in its own file (in which case you will email the file of new features to us to merge with the compiled data set) or appended to the compiled dataset (in which case you will commit your updated file to your forked github repository and create a pull request to add the file to the official github repository). Your decision here should mostly be based on your comfort with github. If you have no idea what any of the details about the GitHub stuff means, please opt for the separate file and email it to us.\n",
    "If you choose to create a separate file, make a directory called \"output\" in `base_dir`."
   ]
  },
  {
   "cell_type": "code",
   "execution_count": null,
   "metadata": {
    "id": "eF_k2NBKFdoI"
   },
   "outputs": [],
   "source": [
    "# Example\n",
    "# separate_file = True\n",
    "separate_file = True"
   ]
  },
  {
   "cell_type": "markdown",
   "metadata": {
    "id": "IGXuaq3IFmDv"
   },
   "source": [
    "# Import Metadata Format Summary"
   ]
  },
  {
   "cell_type": "code",
   "execution_count": null,
   "metadata": {
    "colab": {
     "base_uri": "https://localhost:8080/",
     "height": 519
    },
    "id": "C3jWxnteFh58",
    "outputId": "5f67299f-5861-44f6-ebaf-4ac9a55d9590"
   },
   "outputs": [],
   "source": [
    "metadata_format_summary = pd.read_csv(metadata_filepath)\n",
    "\n",
    "required_fields = list(\n",
    "    metadata_format_summary[metadata_format_summary.Required == \"True\"].FieldName.values\n",
    ")\n",
    "\n",
    "generated_fields = list(\n",
    "    metadata_format_summary[\n",
    "        metadata_format_summary.Required == \"Generated\"\n",
    "    ].FieldName.values\n",
    ")\n",
    "\n",
    "optional_fields = list(\n",
    "    metadata_format_summary[\n",
    "        metadata_format_summary.Required == \"False\"\n",
    "    ].FieldName.values\n",
    ")\n",
    "\n",
    "all_fields = required_fields + generated_fields + optional_fields + new_fields\n",
    "\n",
    "metadata_format_summary"
   ]
  },
  {
   "cell_type": "markdown",
   "metadata": {
    "id": "k_f_dbs-GFil"
   },
   "source": [
    "# Load the Main ARTS Data Set"
   ]
  },
  {
   "cell_type": "code",
   "execution_count": null,
   "metadata": {
    "colab": {
     "base_uri": "https://localhost:8080/",
     "height": 674
    },
    "id": "ULxAp1OrF3J_",
    "outputId": "01026a37-4320-4cd6-8100-55dacd8e6a4a"
   },
   "outputs": [],
   "source": [
    "ARTS_main_dataset = gpd.read_file(ARTS_main_dataset_filepath).filter(\n",
    "    items=required_fields + generated_fields + optional_fields + [\"geometry\"]\n",
    ")\n",
    "\n",
    "ARTS_main_dataset.ContributionDate = pd.to_datetime(ARTS_main_dataset.ContributionDate)\n",
    "\n",
    "for field in required_fields:  # Check if all required columns are present\n",
    "    if field not in ARTS_main_dataset.columns:\n",
    "        raise ValueError(\n",
    "            \"{field} is missing. Has the RTS data set been modified since download?\".format(\n",
    "                field=repr(field)\n",
    "            )\n",
    "        )\n",
    "\n",
    "ARTS_main_dataset"
   ]
  },
  {
   "cell_type": "markdown",
   "metadata": {},
   "source": [
    "# Load Your New RTS Data Set"
   ]
  },
  {
   "cell_type": "code",
   "execution_count": null,
   "metadata": {
    "colab": {
     "base_uri": "https://localhost:8080/",
     "height": 640
    },
    "id": "hZu-0rUwMJd8",
    "outputId": "900abd2e-f629-4a82-ed6d-482a32375389"
   },
   "outputs": [],
   "source": [
    "# pre-processing your rts data\n",
    "new_dataset = dataformatting.preprocessing(\n",
    "    your_rts_dataset_filepath,\n",
    "    required_fields,\n",
    "    generated_fields,\n",
    "    optional_fields,\n",
    "    new_fields,\n",
    "    calculate_centroid\n",
    ")\n",
    "new_dataset"
   ]
  },
  {
   "cell_type": "markdown",
   "metadata": {
    "id": "N8TNsr-7RT7s"
   },
   "source": [
    "# Check Metadata Format of New Data"
   ]
  },
  {
   "cell_type": "code",
   "execution_count": null,
   "metadata": {
    "colab": {
     "base_uri": "https://localhost:8080/"
    },
    "id": "32pZ-VawPkm_",
    "outputId": "1ff03473-2964-4917-dfa5-cd81685045ed"
   },
   "outputs": [],
   "source": [
    "dataformatting.run_formatting_checks(new_dataset)"
   ]
  },
  {
   "cell_type": "markdown",
   "metadata": {
    "id": "i5MjYsveRV6w"
   },
   "source": [
    "# Generate UIDs\n",
    "\n",
    "Set seed for UID generation (R) by concatenating all required metadata columns (except UID) into a single string"
   ]
  },
  {
   "cell_type": "code",
   "execution_count": null,
   "metadata": {
    "colab": {
     "base_uri": "https://localhost:8080/"
    },
    "id": "Tv3jNJyxRdtk",
    "outputId": "ed6cab1c-ba2a-484d-b215-9c858fde2f58"
   },
   "outputs": [],
   "source": [
    "dataformatting.seed_gen(new_dataset)\n",
    "new_dataset.seed"
   ]
  },
  {
   "cell_type": "markdown",
   "metadata": {
    "id": "9licXvspRjvZ"
   },
   "source": [
    "Generate UIDs"
   ]
  },
  {
   "cell_type": "code",
   "execution_count": null,
   "metadata": {
    "colab": {
     "base_uri": "https://localhost:8080/"
    },
    "id": "UhMZnnk9RiCJ",
    "outputId": "caea8cdb-880b-4364-d6d3-02c115d5b867"
   },
   "outputs": [],
   "source": [
    "new_dataset[\"UID\"] = [\n",
    "    str(uuid.uuid5(uuid.NAMESPACE_DNS, name=seed)) for seed in new_dataset.seed\n",
    "]\n",
    "new_dataset.UID"
   ]
  },
  {
   "cell_type": "markdown",
   "metadata": {
    "id": "xl6uOJTbRuUJ"
   },
   "source": [
    "# Check for Intersections with RTS Data Set\n",
    "\n",
    "Find intersecting RTS polygons from the official RTS data set and retrieve their UIDs. Create empty columns to manually classify the repeated polygons."
   ]
  },
  {
   "cell_type": "code",
   "execution_count": null,
   "metadata": {
    "colab": {
     "base_uri": "https://localhost:8080/"
    },
    "id": "dJlUhtEmTM8I",
    "outputId": "3027cf84-59ca-47f8-ad9f-7ea195b62b30"
   },
   "outputs": [],
   "source": [
    "if demo:\n",
    "    intersections_output_filepath = (\n",
    "        base_dir / 'Tutorial' / 'mock_dataset' / 'output' / (\n",
    "            str(your_rts_dataset_file).split('.')[0] + \"_overlapping_polygons.geojson\"\n",
    "        )\n",
    "    )\n",
    "else:\n",
    "    intersections_output_filepath = (\n",
    "        base_dir / 'output' / (\n",
    "            str(your_rts_dataset_file).split('.')[0] + \"_overlapping_polygons.geojson\"\n",
    "        )\n",
    "    )\n",
    "\n",
    "new_dataset = dataformatting.check_intersections(\n",
    "    new_dataset, ARTS_main_dataset, intersections_output_filepath, demo\n",
    ")\n",
    "new_dataset"
   ]
  },
  {
   "cell_type": "markdown",
   "metadata": {
    "id": "5mSS0x0mmcFO"
   },
   "source": [
    "At this point, you will need to manually check all polygons with intersections against the polygons in the official RTS data set in your preferred GIS software and save the output as a geojson file."
   ]
  },
  {
   "cell_type": "markdown",
   "metadata": {
    "id": "tr3l9YmFpiSG"
   },
   "source": [
    "When possible/necessary, try to find imagery that matches the date of the intersecting polygons - this may require contacting the lab that did the original delineation.\n",
    "\n",
    "Your job is to inspect each of the polygons listed in the 'Intersections' column compared to the new RTS feature and manually copy and paste the UIDs from the 'Intersections' column into the 'RepeatRTS', 'StabilizedRTS', 'MergedRTS', or 'AccidentalOverlap' based on the relationship between the two polygons.\n",
    "\n",
    "- Paste the UID into the RepeatRTS column when the new RTS feature is the same RTS feature as the RTS feature in the 'Intersections' column, but was delineated at a different point in time, by a different lab at the same point in time, or from different imagery at the same point in time. The RTS feature is the same when it was the result of the same RTS initiation event.\n",
    "\n",
    "- Paste the UID into the StabilizedRTS column when the RTS feature in the 'Intersections' column is a stabilized RTS scar as of the date of the imagery used in the new RTS delineations.\n",
    "\n",
    "- Paste the UID into the MergedRTS column when multiple RTS features in the 'Intersections' column merged to form the new RTS feature.\n",
    "\n",
    "- Paste the UID into the AccidentalOverlap column when inaccuracies in delineation of separate RTS features lead to overlap (e.g. features that are very close to each other and the polygons barely touch).\n",
    "\n",
    "When this is done, each of the UIDs in the Intersections column should have been copied into one (and only one) of the 'RepeatRTS', 'StabilizedRTS', 'MergedRTS', or 'AccidentalOverlap' columns.\n",
    "\n",
    "\n",
    "# Load Manually Edited File and Join to Processed Data\n",
    "\n",
    "Add the 'RepeatRTS', 'StabilizedRTS', and 'MergedRTS' columns that you just edited back into `new_dataset`."
   ]
  },
  {
   "cell_type": "code",
   "execution_count": null,
   "metadata": {
    "colab": {
     "base_uri": "https://localhost:8080/",
     "height": 774
    },
    "id": "8kdWbvgtXlv3",
    "outputId": "eee44e21-cd2f-4b2b-feed-4bd7da134de9"
   },
   "outputs": [],
   "source": [
    "# path to the manually-edited file\n",
    "if demo:\n",
    "    edited_filepath = base_dir / 'Tutorial' / 'mock_dataset' / 'output' / (\n",
    "        str(your_rts_dataset_file).split('.')[0] + \"_overlapping_polygons.geojson\"\n",
    "    )\n",
    "\n",
    "else:\n",
    "    edited_filepath = base_dir / 'output' / (\n",
    "        str(your_rts_dataset_file).split('.')[0] + \"_overlapping_polygons.geojson\"\n",
    "        )\n",
    "\n",
    "merged_data = dataformatting.merge_data(new_dataset, edited_filepath)\n",
    "merged_data"
   ]
  },
  {
   "cell_type": "markdown",
   "metadata": {
    "id": "PDJjny6e_Gvy"
   },
   "source": [
    "# Check for Intersections within New RTS Data Set\n",
    "\n",
    "Intersections within the new data set are assumed to be repeat delineations of the same RTS feature. If this is not true (e.g. if you have delineated an old RTS scar and an active RTS feature on top of it), this code will not assign UIDs properly. In this case, please get in touch with us to determine how to proceed."
   ]
  },
  {
   "cell_type": "code",
   "execution_count": null,
   "metadata": {
    "colab": {
     "base_uri": "https://localhost:8080/",
     "height": 804
    },
    "id": "N633Zu3EeSz1",
    "outputId": "098a469c-f1f9-4696-9ed3-ce79fba00e82"
   },
   "outputs": [],
   "source": [
    "merged_data_self_intersect = dataformatting.self_intersection(merged_data)\n",
    "merged_data_self_intersect"
   ]
  },
  {
   "cell_type": "markdown",
   "metadata": {
    "id": "rqVz5B8cbXBv"
   },
   "source": [
    "# Check Completeness of Intersection Information"
   ]
  },
  {
   "cell_type": "code",
   "execution_count": null,
   "metadata": {
    "colab": {
     "base_uri": "https://localhost:8080/"
    },
    "id": "up6IChEIagxp",
    "outputId": "3d78b2ba-8c31-4293-929a-e304aa8b26ca"
   },
   "outputs": [],
   "source": [
    "dataformatting.check_intersection_info(merged_data_self_intersect)"
   ]
  },
  {
   "cell_type": "markdown",
   "metadata": {
    "id": "RFmaUxmxbcB3"
   },
   "source": [
    "# Final Column Selection"
   ]
  },
  {
   "cell_type": "code",
   "execution_count": null,
   "metadata": {
    "colab": {
     "base_uri": "https://localhost:8080/",
     "height": 774
    },
    "id": "4gH9YMi-base",
    "outputId": "aa7c1dd6-aaae-4537-8ecd-fafb1c69b3bf"
   },
   "outputs": [],
   "source": [
    "formatted_data = dataformatting.add_empty_columns(\n",
    "    merged_data_self_intersect,\n",
    "    [col for col in optional_fields],\n",
    ")\n",
    "\n",
    "formatted_data = formatted_data[all_fields + [\"geometry\"]]\n",
    "\n",
    "formatted_data"
   ]
  },
  {
   "cell_type": "code",
   "execution_count": null,
   "metadata": {
    "colab": {
     "base_uri": "https://localhost:8080/"
    },
    "id": "Gqfgg8q6bh60",
    "outputId": "791063de-c4bb-4a39-b8fb-7e57ada5c90c"
   },
   "outputs": [],
   "source": [
    "dataformatting.output(\n",
    "    formatted_data,\n",
    "    ARTS_main_dataset,\n",
    "    optional_fields,\n",
    "    all_fields,\n",
    "    base_dir,\n",
    "    your_rts_dataset_file,\n",
    "    ARTS_main_dataset_filepath,\n",
    "    separate_file,\n",
    "    demo\n",
    ")"
   ]
  },
  {
   "cell_type": "markdown",
   "metadata": {
    "id": "SPzNdvGlbvSt"
   },
   "source": [
    "Now you are ready to submit the above file."
   ]
  }
 ],
 "metadata": {
  "colab": {
   "include_colab_link": true,
   "provenance": []
  },
  "kernelspec": {
   "display_name": "Python 3 (ipykernel)",
   "language": "python",
   "name": "python3"
  },
  "language_info": {
   "codemirror_mode": {
    "name": "ipython",
    "version": 3
   },
   "file_extension": ".py",
   "mimetype": "text/x-python",
   "name": "python",
   "nbconvert_exporter": "python",
   "pygments_lexer": "ipython3",
   "version": "3.11.5"
  }
 },
 "nbformat": 4,
 "nbformat_minor": 4
}
